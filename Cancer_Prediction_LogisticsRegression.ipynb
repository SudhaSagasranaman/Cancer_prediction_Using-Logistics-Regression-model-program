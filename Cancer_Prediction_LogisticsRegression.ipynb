{
 "cells": [
  {
   "cell_type": "code",
   "execution_count": 7,
   "id": "213ec384-437b-4c28-a267-2ace3d1601e9",
   "metadata": {},
   "outputs": [
    {
     "name": "stdout",
     "output_type": "stream",
     "text": [
      "[[83 20]\n",
      " [22 75]]\n"
     ]
    },
    {
     "data": {
      "image/png": "[encoded data removed]",
      "text/plain": [
       "<Figure size 640x480 with 2 Axes>"
      ]
     },
     "metadata": {},
     "output_type": "display_data"
    },
    {
     "name": "stdout",
     "output_type": "stream",
     "text": [
      "Classification Report:\n",
      "              precision    recall  f1-score   support\n",
      "\n",
      "           0       0.79      0.81      0.80       103\n",
      "           1       0.79      0.77      0.78        97\n",
      "\n",
      "    accuracy                           0.79       200\n",
      "   macro avg       0.79      0.79      0.79       200\n",
      "weighted avg       0.79      0.79      0.79       200\n",
      "\n"
     ]
    }
   ],
   "source": [
    "#Logistic Regression:Takes input features and produces a raw output (logit), which is a real number.\n",
    "\n",
    "\n",
    "#The sigmoid function converts the logit into a probability between 0 and 1:\n",
    "\n",
    "#sigmoid(x) = 1 / (1 + e^(-x))\n",
    "#where e is the base of the natural logarithm.\n",
    "#The output of the sigmoid is a probability \n",
    "#A threshold (commonly 0.5) is applied:\n",
    "#If probability > 0.5, predict 1.\n",
    "#If probability < 0.5, predict 0.\n",
    "#In short, the sigmoid function turns the raw output (logit) into a probability, \n",
    "#which is then used to make a binary prediction (0 or 1).\n",
    "\n",
    "import pandas as pd\n",
    "from sklearn.model_selection import train_test_split\n",
    "from sklearn.linear_model import LogisticRegression\n",
    "from sklearn.metrics import confusion_matrix, classification_report, ConfusionMatrixDisplay\n",
    "import matplotlib.pyplot as plt\n",
    "\n",
    "#  Loading  the dataset\n",
    "data = pd.read_csv('cancer_prediction_data.csv')\n",
    "\n",
    "#  Prepare features (X) and target (y)\n",
    "X = data.drop(columns=['Target'])  # Features\n",
    "y = data['Target']  # Target variable\n",
    "\n",
    "#  Split the data into training and testing sets (80% train, 20% test)\n",
    "X_train, X_test, y_train, y_test = train_test_split(X, y, test_size=0.2, random_state=42)\n",
    "\n",
    "#  Train a logistic regression model\n",
    "logreg = LogisticRegression()\n",
    "logreg.fit(X_train, y_train)\n",
    "\n",
    "#  Make predictions on the test set\n",
    "y_pred = logreg.predict(X_test)\n",
    "\n",
    "#Generate and display the confusion matrix\n",
    "cm = confusion_matrix(y_test, y_pred)\n",
    "print(cm)\n",
    "disp = ConfusionMatrixDisplay(confusion_matrix=cm, display_labels=logreg.classes_)\n",
    "disp.plot(cmap=plt.cm.Blues)\n",
    "plt.title('Confusion Matrix')\n",
    "plt.show()\n",
    "\n",
    "# Step 7: Print the classification report\n",
    "print(\"Classification Report:\")\n",
    "print(classification_report(y_test, y_pred))\n",
    "\n",
    "\n",
    "'''\n",
    "Accuracy\n",
    "(TP +TN)/(TP +TN +FP + FN) = (75+83)/(75+83+20+22) = 158/200 = 0.79(79%)\n",
    "\n",
    "1. Precision (Positive Predictive Value - PPV): 80.5% (How many predicted positives are actually positive)\n",
    "    - Formula: TP / (TP + FP)\n",
    "    - Calculation: 83 / (83 + 20) ≈ 0.805\n",
    "2. Recall (Sensitivity or True Positive Rate - TPR): 79% (How well the model finds actual positives)\n",
    "    - Formula: TP / (TP + FN)\n",
    "    - Calculation: 83 / (83 + 22) ≈ 0.790\n",
    "3. F1 Score (Harmonic Mean of Precision and Recall): 79.7% (Balance between precision and recall)\n",
    "    - Formula: 2 * (Precision * Recall) / (Precision + Recall)\n",
    "    - Calculation: 2 * (0.805 * 0.790) / (0.805 + 0.790) ≈ 0.797\n",
    "4. Specificity (True Negative Rate - TNR): 78.9% (How well negatives are classified)\n",
    "    - Formula: TN / (TN + FP)\n",
    "    - Calculation: 75 / (75 + 20) ≈ 0.789\n",
    "\n",
    "Summary of Performance\n",
    "TP, FP, FN,TN\n",
    "- Accuracy: 79% (Overall correctness of the model)\n",
    "- Precision: 80.5% (How many predicted positives are correct)\n",
    "- Recall: 79% (How well the model finds actual positives)\n",
    "- F1 Score: 79.7% (Balance between precision and recall)\n",
    "- Specificity: 78.9% (How well negatives are classified)'''\n",
    "                                                                    "
   ]
  },
  {
   "cell_type": "code",
   "execution_count": null,
   "id": "9f15514a-cbc2-41d3-8af4-f987900ea11e",
   "metadata": {},
   "outputs": [],
   "source": []
  },
  {
   "cell_type": "code",
   "execution_count": null,
   "id": "20b6f059-bffa-4fee-8c8a-501f13166450",
   "metadata": {},
   "outputs": [],
   "source": []
  }
 ],
 "metadata": {
  "kernelspec": {
   "display_name": "Python [conda env:base] *",
   "language": "python",
   "name": "conda-base-py"
  },
  "language_info": {
   "codemirror_mode": {
    "name": "ipython",
    "version": 3
   },
   "file_extension": ".py",
   "mimetype": "text/x-python",
   "name": "python",
   "nbconvert_exporter": "python",
   "pygments_lexer": "ipython3",
   "version": "3.12.4"
  }
 },
 "nbformat": 4,
 "nbformat_minor": 5
}
